{
  "nbformat": 4,
  "nbformat_minor": 0,
  "metadata": {
    "colab": {
      "name": "Rhythm_Bhavsar_Pyspark.ipynb",
      "provenance": []
    },
    "kernelspec": {
      "name": "python3",
      "display_name": "Python 3"
    },
    "language_info": {
      "name": "python"
    }
  },
  "cells": [
    {
      "cell_type": "code",
      "execution_count": 1,
      "metadata": {
        "colab": {
          "base_uri": "https://localhost:8080/"
        },
        "id": "-dJBKVtqR-Jy",
        "outputId": "2093027c-08a4-42c3-f5c6-c95c3f336db0"
      },
      "outputs": [
        {
          "output_type": "stream",
          "name": "stdout",
          "text": [
            "Looking in indexes: https://pypi.org/simple, https://us-python.pkg.dev/colab-wheels/public/simple/\n",
            "Requirement already satisfied: pyspark in /usr/local/lib/python3.7/dist-packages (3.2.1)\n",
            "Requirement already satisfied: py4j==0.10.9.3 in /usr/local/lib/python3.7/dist-packages (from pyspark) (0.10.9.3)\n"
          ]
        }
      ],
      "source": [
        "pip install pyspark"
      ]
    },
    {
      "cell_type": "code",
      "source": [
        "# Importing all required libraries\n",
        "from pyspark.sql import SparkSession\n",
        "from pyspark.sql.functions import lit\n",
        "spark = SparkSession.builder.appName('Test').getOrCreate()"
      ],
      "metadata": {
        "id": "SDgjVq5vR-v6"
      },
      "execution_count": 2,
      "outputs": []
    },
    {
      "cell_type": "code",
      "source": [
        "# Reading the Dataframe from the csv file.\n",
        "df = spark.read.format(\"csv\").option(\"header\", \"true\").option(\"inferSchema\",\"true\").load(\"/content/Airline_data.csv\")  \n",
        "df.show()"
      ],
      "metadata": {
        "colab": {
          "base_uri": "https://localhost:8080/"
        },
        "id": "DIueWHuCSEuy",
        "outputId": "ee59355b-69db-4b13-8fb2-0059f598be81"
      },
      "execution_count": 3,
      "outputs": [
        {
          "output_type": "stream",
          "name": "stdout",
          "text": [
            "+----+-----+----------+---------+-------+----------+-------+----------+-------------+---------+-------+-----------------+--------------+-------+--------+--------+------+----+--------+------+-------+---------+----------------+--------+------------+------------+--------+-------------+-----------------+\n",
            "|Year|Month|DayofMonth|DayOfWeek|DepTime|CRSDepTime|ArrTime|CRSArrTime|UniqueCarrier|FlightNum|TailNum|ActualElapsedTime|CRSElapsedTime|AirTime|ArrDelay|DepDelay|Origin|Dest|Distance|TaxiIn|TaxiOut|Cancelled|CancellationCode|Diverted|CarrierDelay|WeatherDelay|NASDelay|SecurityDelay|LateAircraftDelay|\n",
            "+----+-----+----------+---------+-------+----------+-------+----------+-------------+---------+-------+-----------------+--------------+-------+--------+--------+------+----+--------+------+-------+---------+----------------+--------+------------+------------+--------+-------------+-----------------+\n",
            "|1989|    1|        23|        1|   1419|      1230|   1742|      1552|           UA|      183|     NA|              323|           322|     NA|     110|     109|   SFO| HNL|    2398|    NA|     NA|        0|              NA|       0|          NA|          NA|      NA|           NA|               NA|\n",
            "|1989|    1|        24|        2|   1255|      1230|   1612|      1552|           UA|      183|     NA|              317|           322|     NA|      20|      25|   SFO| HNL|    2398|    NA|     NA|        0|              NA|       0|          NA|          NA|      NA|           NA|               NA|\n",
            "|1989|    1|        25|        3|   1230|      1230|   1533|      1552|           UA|      183|     NA|              303|           322|     NA|     -19|       0|   SFO| HNL|    2398|    NA|     NA|        0|              NA|       0|          NA|          NA|      NA|           NA|               NA|\n",
            "|1989|    1|        26|        4|   1230|      1230|   1523|      1552|           UA|      183|     NA|              293|           322|     NA|     -29|       0|   SFO| HNL|    2398|    NA|     NA|        0|              NA|       0|          NA|          NA|      NA|           NA|               NA|\n",
            "|1989|    1|        27|        5|   1232|      1230|   1513|      1552|           UA|      183|     NA|              281|           322|     NA|     -39|       2|   SFO| HNL|    2398|    NA|     NA|        0|              NA|       0|          NA|          NA|      NA|           NA|               NA|\n",
            "|1989|    1|        28|        6|   1228|      1230|   1550|      1552|           UA|      183|     NA|              322|           322|     NA|      -2|      -2|   SFO| HNL|    2398|    NA|     NA|        0|              NA|       0|          NA|          NA|      NA|           NA|               NA|\n",
            "|1989|    1|        29|        7|   1639|      1230|   1942|      1552|           UA|      183|     NA|              303|           322|     NA|     230|     249|   SFO| HNL|    2398|    NA|     NA|        0|              NA|       0|          NA|          NA|      NA|           NA|               NA|\n",
            "|1989|    1|        30|        1|   1231|      1230|   1531|      1552|           UA|      183|     NA|              300|           322|     NA|     -21|       1|   SFO| HNL|    2398|    NA|     NA|        0|              NA|       0|          NA|          NA|      NA|           NA|               NA|\n",
            "|1989|    1|        31|        2|   1405|      1230|   1827|      1552|           UA|      183|     NA|              382|           322|     NA|     155|      95|   SFO| HNL|    2398|    NA|     NA|        0|              NA|       0|          NA|          NA|      NA|           NA|               NA|\n",
            "|1989|    1|         2|        1|   1057|      1045|   1537|      1554|           UA|      184|     NA|              160|           189|     NA|     -17|      12|   DEN| IAD|    1452|    NA|     NA|        0|              NA|       0|          NA|          NA|      NA|           NA|               NA|\n",
            "|1989|    1|         3|        2|   1117|      1045|   1607|      1554|           UA|      184|     NA|              170|           189|     NA|      13|      32|   DEN| IAD|    1452|    NA|     NA|        0|              NA|       0|          NA|          NA|      NA|           NA|               NA|\n",
            "|1989|    1|         4|        3|   1107|      1045|   1604|      1554|           UA|      184|     NA|              177|           189|     NA|      10|      22|   DEN| IAD|    1452|    NA|     NA|        0|              NA|       0|          NA|          NA|      NA|           NA|               NA|\n",
            "|1989|    1|         5|        4|   1119|      1045|   1612|      1554|           UA|      184|     NA|              173|           189|     NA|      18|      34|   DEN| IAD|    1452|    NA|     NA|        0|              NA|       0|          NA|          NA|      NA|           NA|               NA|\n",
            "|1989|    1|         6|        5|   1044|      1045|   1548|      1554|           UA|      184|     NA|              184|           189|     NA|      -6|      -1|   DEN| IAD|    1452|    NA|     NA|        0|              NA|       0|          NA|          NA|      NA|           NA|               NA|\n",
            "|1989|    1|         7|        6|   1100|      1045|   1559|      1554|           UA|      184|     NA|              179|           189|     NA|       5|      15|   DEN| IAD|    1452|    NA|     NA|        0|              NA|       0|          NA|          NA|      NA|           NA|               NA|\n",
            "|1989|    1|         8|        7|   1110|      1045|   1554|      1554|           UA|      184|     NA|              164|           189|     NA|       0|      25|   DEN| IAD|    1452|    NA|     NA|        0|              NA|       0|          NA|          NA|      NA|           NA|               NA|\n",
            "|1989|    1|         9|        1|   1044|      1045|   1535|      1554|           UA|      184|     NA|              171|           189|     NA|     -19|      -1|   DEN| IAD|    1452|    NA|     NA|        0|              NA|       0|          NA|          NA|      NA|           NA|               NA|\n",
            "|1989|    1|        10|        2|   1048|      1045|   1539|      1554|           UA|      184|     NA|              171|           189|     NA|     -15|       3|   DEN| IAD|    1452|    NA|     NA|        0|              NA|       0|          NA|          NA|      NA|           NA|               NA|\n",
            "|1989|    1|        11|        3|   1150|      1045|   1701|      1554|           UA|      184|     NA|              191|           189|     NA|      67|      65|   DEN| IAD|    1452|    NA|     NA|        0|              NA|       0|          NA|          NA|      NA|           NA|               NA|\n",
            "|1989|    1|        12|        4|   1048|      1045|   1549|      1554|           UA|      184|     NA|              181|           189|     NA|      -5|       3|   DEN| IAD|    1452|    NA|     NA|        0|              NA|       0|          NA|          NA|      NA|           NA|               NA|\n",
            "+----+-----+----------+---------+-------+----------+-------+----------+-------------+---------+-------+-----------------+--------------+-------+--------+--------+------+----+--------+------+-------+---------+----------------+--------+------------+------------+--------+-------------+-----------------+\n",
            "only showing top 20 rows\n",
            "\n"
          ]
        }
      ]
    },
    {
      "cell_type": "markdown",
      "source": [
        "## Show a sample of 5 records from dataset"
      ],
      "metadata": {
        "id": "cNIgE96wSnVa"
      }
    },
    {
      "cell_type": "code",
      "source": [
        "df.show(5)"
      ],
      "metadata": {
        "colab": {
          "base_uri": "https://localhost:8080/"
        },
        "id": "opPXf3-xS3WS",
        "outputId": "f6f3ead7-bd6f-44e7-cf6c-1cb5dd3b0df9"
      },
      "execution_count": 4,
      "outputs": [
        {
          "output_type": "stream",
          "name": "stdout",
          "text": [
            "+----+-----+----------+---------+-------+----------+-------+----------+-------------+---------+-------+-----------------+--------------+-------+--------+--------+------+----+--------+------+-------+---------+----------------+--------+------------+------------+--------+-------------+-----------------+\n",
            "|Year|Month|DayofMonth|DayOfWeek|DepTime|CRSDepTime|ArrTime|CRSArrTime|UniqueCarrier|FlightNum|TailNum|ActualElapsedTime|CRSElapsedTime|AirTime|ArrDelay|DepDelay|Origin|Dest|Distance|TaxiIn|TaxiOut|Cancelled|CancellationCode|Diverted|CarrierDelay|WeatherDelay|NASDelay|SecurityDelay|LateAircraftDelay|\n",
            "+----+-----+----------+---------+-------+----------+-------+----------+-------------+---------+-------+-----------------+--------------+-------+--------+--------+------+----+--------+------+-------+---------+----------------+--------+------------+------------+--------+-------------+-----------------+\n",
            "|1989|    1|        23|        1|   1419|      1230|   1742|      1552|           UA|      183|     NA|              323|           322|     NA|     110|     109|   SFO| HNL|    2398|    NA|     NA|        0|              NA|       0|          NA|          NA|      NA|           NA|               NA|\n",
            "|1989|    1|        24|        2|   1255|      1230|   1612|      1552|           UA|      183|     NA|              317|           322|     NA|      20|      25|   SFO| HNL|    2398|    NA|     NA|        0|              NA|       0|          NA|          NA|      NA|           NA|               NA|\n",
            "|1989|    1|        25|        3|   1230|      1230|   1533|      1552|           UA|      183|     NA|              303|           322|     NA|     -19|       0|   SFO| HNL|    2398|    NA|     NA|        0|              NA|       0|          NA|          NA|      NA|           NA|               NA|\n",
            "|1989|    1|        26|        4|   1230|      1230|   1523|      1552|           UA|      183|     NA|              293|           322|     NA|     -29|       0|   SFO| HNL|    2398|    NA|     NA|        0|              NA|       0|          NA|          NA|      NA|           NA|               NA|\n",
            "|1989|    1|        27|        5|   1232|      1230|   1513|      1552|           UA|      183|     NA|              281|           322|     NA|     -39|       2|   SFO| HNL|    2398|    NA|     NA|        0|              NA|       0|          NA|          NA|      NA|           NA|               NA|\n",
            "+----+-----+----------+---------+-------+----------+-------+----------+-------------+---------+-------+-----------------+--------------+-------+--------+--------+------+----+--------+------+-------+---------+----------------+--------+------------+------------+--------+-------------+-----------------+\n",
            "only showing top 5 rows\n",
            "\n"
          ]
        }
      ]
    },
    {
      "cell_type": "markdown",
      "source": [
        "## Read the data with data types."
      ],
      "metadata": {
        "id": "_2ti2t2OSnYK"
      }
    },
    {
      "cell_type": "code",
      "source": [
        "# Reading datatypes for all the columns\n",
        "for col in df.dtypes:\n",
        "    print(col[0]+\" :- \"+col[1])"
      ],
      "metadata": {
        "colab": {
          "base_uri": "https://localhost:8080/"
        },
        "id": "ERCxEncBS4Ip",
        "outputId": "849e2f4c-f8fa-4342-b90c-ac0dc85edd6a"
      },
      "execution_count": 5,
      "outputs": [
        {
          "output_type": "stream",
          "name": "stdout",
          "text": [
            "Year :- int\n",
            "Month :- int\n",
            "DayofMonth :- int\n",
            "DayOfWeek :- int\n",
            "DepTime :- int\n",
            "CRSDepTime :- int\n",
            "ArrTime :- int\n",
            "CRSArrTime :- int\n",
            "UniqueCarrier :- string\n",
            "FlightNum :- int\n",
            "TailNum :- string\n",
            "ActualElapsedTime :- int\n",
            "CRSElapsedTime :- int\n",
            "AirTime :- string\n",
            "ArrDelay :- int\n",
            "DepDelay :- int\n",
            "Origin :- string\n",
            "Dest :- string\n",
            "Distance :- int\n",
            "TaxiIn :- string\n",
            "TaxiOut :- string\n",
            "Cancelled :- int\n",
            "CancellationCode :- string\n",
            "Diverted :- int\n",
            "CarrierDelay :- string\n",
            "WeatherDelay :- string\n",
            "NASDelay :- string\n",
            "SecurityDelay :- string\n",
            "LateAircraftDelay :- string\n"
          ]
        }
      ]
    },
    {
      "cell_type": "markdown",
      "source": [
        "## Make a new column MonthStr, Which has months in form of 01, 02, 03, ..., 12"
      ],
      "metadata": {
        "id": "3udGMI9mSng_"
      }
    },
    {
      "cell_type": "code",
      "source": [
        "import pyspark.sql.functions as F\n",
        "from pyspark.sql.types import *\n",
        "\n",
        "def somefunc(value):\n",
        "  if   value == 1: \n",
        "      return '01'\n",
        "  elif value == 2:\n",
        "      return '02'\n",
        "  elif value == 3:\n",
        "      return '03'\n",
        "  elif value == 4:\n",
        "      return '04'\n",
        "  elif value == 5:\n",
        "      return '05'\n",
        "  elif value == 6:\n",
        "      return '06'\n",
        "  elif value == 7:\n",
        "      return '07'\n",
        "  elif value == 8:\n",
        "      return '08'\n",
        "  elif value == 9:\n",
        "      return '09'\n",
        "  elif value == 10:\n",
        "      return '10'\n",
        "  elif value == 11:\n",
        "      return '11'\n",
        "  elif value == 12:\n",
        "      return '12'\n",
        "      \n",
        "\n",
        "#convert to a UDF Function by passing in the function and return type of function\n",
        "udfsomefunc = F.udf(somefunc, StringType())\n",
        "df2 = df.withColumn(\"MonthStr\", udfsomefunc(\"Month\"))\n",
        "df2.show()"
      ],
      "metadata": {
        "colab": {
          "base_uri": "https://localhost:8080/"
        },
        "id": "SsKYW3TgXA4j",
        "outputId": "7c1b85f3-9107-4a23-d0f4-7a1bb32148df"
      },
      "execution_count": 7,
      "outputs": [
        {
          "output_type": "stream",
          "name": "stdout",
          "text": [
            "+----+-----+----------+---------+-------+----------+-------+----------+-------------+---------+-------+-----------------+--------------+-------+--------+--------+------+----+--------+------+-------+---------+----------------+--------+------------+------------+--------+-------------+-----------------+--------+\n",
            "|Year|Month|DayofMonth|DayOfWeek|DepTime|CRSDepTime|ArrTime|CRSArrTime|UniqueCarrier|FlightNum|TailNum|ActualElapsedTime|CRSElapsedTime|AirTime|ArrDelay|DepDelay|Origin|Dest|Distance|TaxiIn|TaxiOut|Cancelled|CancellationCode|Diverted|CarrierDelay|WeatherDelay|NASDelay|SecurityDelay|LateAircraftDelay|MonthStr|\n",
            "+----+-----+----------+---------+-------+----------+-------+----------+-------------+---------+-------+-----------------+--------------+-------+--------+--------+------+----+--------+------+-------+---------+----------------+--------+------------+------------+--------+-------------+-----------------+--------+\n",
            "|1989|    1|        23|        1|   1419|      1230|   1742|      1552|           UA|      183|     NA|              323|           322|     NA|     110|     109|   SFO| HNL|    2398|    NA|     NA|        0|              NA|       0|          NA|          NA|      NA|           NA|               NA|      01|\n",
            "|1989|    1|        24|        2|   1255|      1230|   1612|      1552|           UA|      183|     NA|              317|           322|     NA|      20|      25|   SFO| HNL|    2398|    NA|     NA|        0|              NA|       0|          NA|          NA|      NA|           NA|               NA|      01|\n",
            "|1989|    1|        25|        3|   1230|      1230|   1533|      1552|           UA|      183|     NA|              303|           322|     NA|     -19|       0|   SFO| HNL|    2398|    NA|     NA|        0|              NA|       0|          NA|          NA|      NA|           NA|               NA|      01|\n",
            "|1989|    1|        26|        4|   1230|      1230|   1523|      1552|           UA|      183|     NA|              293|           322|     NA|     -29|       0|   SFO| HNL|    2398|    NA|     NA|        0|              NA|       0|          NA|          NA|      NA|           NA|               NA|      01|\n",
            "|1989|    1|        27|        5|   1232|      1230|   1513|      1552|           UA|      183|     NA|              281|           322|     NA|     -39|       2|   SFO| HNL|    2398|    NA|     NA|        0|              NA|       0|          NA|          NA|      NA|           NA|               NA|      01|\n",
            "|1989|    1|        28|        6|   1228|      1230|   1550|      1552|           UA|      183|     NA|              322|           322|     NA|      -2|      -2|   SFO| HNL|    2398|    NA|     NA|        0|              NA|       0|          NA|          NA|      NA|           NA|               NA|      01|\n",
            "|1989|    1|        29|        7|   1639|      1230|   1942|      1552|           UA|      183|     NA|              303|           322|     NA|     230|     249|   SFO| HNL|    2398|    NA|     NA|        0|              NA|       0|          NA|          NA|      NA|           NA|               NA|      01|\n",
            "|1989|    1|        30|        1|   1231|      1230|   1531|      1552|           UA|      183|     NA|              300|           322|     NA|     -21|       1|   SFO| HNL|    2398|    NA|     NA|        0|              NA|       0|          NA|          NA|      NA|           NA|               NA|      01|\n",
            "|1989|    1|        31|        2|   1405|      1230|   1827|      1552|           UA|      183|     NA|              382|           322|     NA|     155|      95|   SFO| HNL|    2398|    NA|     NA|        0|              NA|       0|          NA|          NA|      NA|           NA|               NA|      01|\n",
            "|1989|    1|         2|        1|   1057|      1045|   1537|      1554|           UA|      184|     NA|              160|           189|     NA|     -17|      12|   DEN| IAD|    1452|    NA|     NA|        0|              NA|       0|          NA|          NA|      NA|           NA|               NA|      01|\n",
            "|1989|    1|         3|        2|   1117|      1045|   1607|      1554|           UA|      184|     NA|              170|           189|     NA|      13|      32|   DEN| IAD|    1452|    NA|     NA|        0|              NA|       0|          NA|          NA|      NA|           NA|               NA|      01|\n",
            "|1989|    1|         4|        3|   1107|      1045|   1604|      1554|           UA|      184|     NA|              177|           189|     NA|      10|      22|   DEN| IAD|    1452|    NA|     NA|        0|              NA|       0|          NA|          NA|      NA|           NA|               NA|      01|\n",
            "|1989|    1|         5|        4|   1119|      1045|   1612|      1554|           UA|      184|     NA|              173|           189|     NA|      18|      34|   DEN| IAD|    1452|    NA|     NA|        0|              NA|       0|          NA|          NA|      NA|           NA|               NA|      01|\n",
            "|1989|    1|         6|        5|   1044|      1045|   1548|      1554|           UA|      184|     NA|              184|           189|     NA|      -6|      -1|   DEN| IAD|    1452|    NA|     NA|        0|              NA|       0|          NA|          NA|      NA|           NA|               NA|      01|\n",
            "|1989|    1|         7|        6|   1100|      1045|   1559|      1554|           UA|      184|     NA|              179|           189|     NA|       5|      15|   DEN| IAD|    1452|    NA|     NA|        0|              NA|       0|          NA|          NA|      NA|           NA|               NA|      01|\n",
            "|1989|    1|         8|        7|   1110|      1045|   1554|      1554|           UA|      184|     NA|              164|           189|     NA|       0|      25|   DEN| IAD|    1452|    NA|     NA|        0|              NA|       0|          NA|          NA|      NA|           NA|               NA|      01|\n",
            "|1989|    1|         9|        1|   1044|      1045|   1535|      1554|           UA|      184|     NA|              171|           189|     NA|     -19|      -1|   DEN| IAD|    1452|    NA|     NA|        0|              NA|       0|          NA|          NA|      NA|           NA|               NA|      01|\n",
            "|1989|    1|        10|        2|   1048|      1045|   1539|      1554|           UA|      184|     NA|              171|           189|     NA|     -15|       3|   DEN| IAD|    1452|    NA|     NA|        0|              NA|       0|          NA|          NA|      NA|           NA|               NA|      01|\n",
            "|1989|    1|        11|        3|   1150|      1045|   1701|      1554|           UA|      184|     NA|              191|           189|     NA|      67|      65|   DEN| IAD|    1452|    NA|     NA|        0|              NA|       0|          NA|          NA|      NA|           NA|               NA|      01|\n",
            "|1989|    1|        12|        4|   1048|      1045|   1549|      1554|           UA|      184|     NA|              181|           189|     NA|      -5|       3|   DEN| IAD|    1452|    NA|     NA|        0|              NA|       0|          NA|          NA|      NA|           NA|               NA|      01|\n",
            "+----+-----+----------+---------+-------+----------+-------+----------+-------------+---------+-------+-----------------+--------------+-------+--------+--------+------+----+--------+------+-------+---------+----------------+--------+------------+------------+--------+-------------+-----------------+--------+\n",
            "only showing top 20 rows\n",
            "\n"
          ]
        }
      ]
    },
    {
      "cell_type": "markdown",
      "source": [
        "## Find the # of flights each airline made"
      ],
      "metadata": {
        "id": "o1XajiUDSnjb"
      }
    },
    {
      "cell_type": "code",
      "source": [
        "flights = df.groupBy(\"FlightNum\").count()\n",
        "flights.show(flights.count(),truncate=False)"
      ],
      "metadata": {
        "colab": {
          "base_uri": "https://localhost:8080/"
        },
        "id": "z5Br2uPDmCKN",
        "outputId": "9864147c-2eb9-49d9-8ae3-32e773c7f142"
      },
      "execution_count": 11,
      "outputs": [
        {
          "output_type": "stream",
          "name": "stdout",
          "text": [
            "+---------+-----+\n",
            "|FlightNum|count|\n",
            "+---------+-----+\n",
            "|193      |24   |\n",
            "|183      |9    |\n",
            "|192      |4    |\n",
            "|190      |31   |\n",
            "|185      |88   |\n",
            "|191      |30   |\n",
            "|188      |59   |\n",
            "|184      |121  |\n",
            "|186      |29   |\n",
            "|187      |31   |\n",
            "+---------+-----+\n",
            "\n"
          ]
        }
      ]
    },
    {
      "cell_type": "markdown",
      "source": [
        "## Find the mean departure delay per origination airport."
      ],
      "metadata": {
        "id": "QpLx4oSsSnl7"
      }
    },
    {
      "cell_type": "code",
      "source": [
        "dep_delay_origin = df.groupBy(\"Origin\").mean(\"DepDelay\")\n",
        "dep_delay_origin.withColumnRenamed(\"avg(DepDelay)\", \"mean(DepDelay)\").show(dep_delay_origin.count(),truncate=False)"
      ],
      "metadata": {
        "colab": {
          "base_uri": "https://localhost:8080/"
        },
        "id": "2qdKhGc4avOD",
        "outputId": "e637a40c-4501-4755-970a-5d4f7c4083b5"
      },
      "execution_count": 9,
      "outputs": [
        {
          "output_type": "stream",
          "name": "stdout",
          "text": [
            "+------+-------------------+\n",
            "|Origin|mean(DepDelay)     |\n",
            "+------+-------------------+\n",
            "|LIH   |-3.7666666666666666|\n",
            "|HNL   |3.217741935483871  |\n",
            "|EWR   |4.958333333333333  |\n",
            "|DEN   |27.6               |\n",
            "|IAD   |8.9                |\n",
            "|SFO   |19.646153846153847 |\n",
            "|PHL   |16.137931034482758 |\n",
            "|OGG   |6.0                |\n",
            "+------+-------------------+\n",
            "\n"
          ]
        }
      ]
    },
    {
      "cell_type": "markdown",
      "source": [
        "## What is the average departure delay from each airport?"
      ],
      "metadata": {
        "id": "D40vSRMRSnoi"
      }
    },
    {
      "cell_type": "code",
      "source": [
        "dep_delay_origin = df.groupBy(\"Dest\").mean(\"DepDelay\")\n",
        "dep_delay_origin.withColumnRenamed(\"Dest\", \"Airport\").show(dep_delay_origin.count(),truncate=False)"
      ],
      "metadata": {
        "colab": {
          "base_uri": "https://localhost:8080/"
        },
        "id": "GfRjORixSMCd",
        "outputId": "0d3ee164-cc88-4dc9-a7d4-ee8cc0a12b5c"
      },
      "execution_count": 10,
      "outputs": [
        {
          "output_type": "stream",
          "name": "stdout",
          "text": [
            "+-------+------------------+\n",
            "|Airport|avg(DepDelay)     |\n",
            "+-------+------------------+\n",
            "|LIH    |6.4               |\n",
            "|HNL    |14.252525252525253|\n",
            "|DEN    |16.774193548387096|\n",
            "|IAD    |27.6              |\n",
            "|PDX    |24.333333333333332|\n",
            "|SFO    |7.3931623931623935|\n",
            "|LAX    |6.956896551724138 |\n",
            "+-------+------------------+\n",
            "\n"
          ]
        }
      ]
    }
  ]
}